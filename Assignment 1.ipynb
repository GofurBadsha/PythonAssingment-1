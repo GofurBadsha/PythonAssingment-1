{
 "cells": [
  {
   "cell_type": "markdown",
   "id": "6707e6c4",
   "metadata": {},
   "source": [
    "# Name : Md. Gafur Badsha\n",
    "# Id No  : 20231050\n",
    "\n",
    "## Assignment 1"
   ]
  },
  {
   "cell_type": "markdown",
   "id": "9c0fbe51",
   "metadata": {},
   "source": [
    "### Python: Variables"
   ]
  },
  {
   "cell_type": "code",
   "execution_count": 8,
   "id": "0d2e5da6",
   "metadata": {},
   "outputs": [
    {
     "name": "stdout",
     "output_type": "stream",
     "text": [
      "Enter a numbers: \n",
      "29\n",
      "\n",
      "\n",
      "Your numbers is : 29\n"
     ]
    }
   ],
   "source": [
    "# a) Use input( ) function to accept numbers from user as a value of a variable x.\n",
    "\n",
    "print(\"Enter a numbers: \")\n",
    "x = input()\n",
    "print(\"\\n\")\n",
    "print(\"Your numbers is : \" + x)"
   ]
  },
  {
   "cell_type": "code",
   "execution_count": 16,
   "id": "b99f789e",
   "metadata": {},
   "outputs": [
    {
     "name": "stdout",
     "output_type": "stream",
     "text": [
      "This data type is : \n"
     ]
    },
    {
     "data": {
      "text/plain": [
       "int"
      ]
     },
     "execution_count": 16,
     "metadata": {},
     "output_type": "execute_result"
    }
   ],
   "source": [
    "# b) Check the data type using type( ) function.\n",
    "\n",
    "x = 10\n",
    "print(\"This data type is : \")\n",
    "type(x)"
   ]
  },
  {
   "cell_type": "code",
   "execution_count": 23,
   "id": "df37de99",
   "metadata": {},
   "outputs": [
    {
     "name": "stdout",
     "output_type": "stream",
     "text": [
      "10\n"
     ]
    }
   ],
   "source": [
    "# c) Also convert the data type to integer and assign to the variable y.\n",
    "\n",
    "x = 10\n",
    "y = str(x)\n",
    "\n",
    "print(y)"
   ]
  },
  {
   "cell_type": "code",
   "execution_count": 24,
   "id": "f71fc0de",
   "metadata": {},
   "outputs": [
    {
     "name": "stdout",
     "output_type": "stream",
     "text": [
      "3.5\n"
     ]
    }
   ],
   "source": [
    "# d) Convert the data type into float and assign to the variable z .\n",
    "\n",
    "x = \"3.500\"\n",
    "z = float(x)\n",
    "\n",
    "print(z)"
   ]
  },
  {
   "cell_type": "code",
   "execution_count": 37,
   "id": "ecdf551d",
   "metadata": {},
   "outputs": [
    {
     "name": "stdout",
     "output_type": "stream",
     "text": [
      "<class 'str'>\n",
      "<class 'int'>\n",
      "<class 'float'>\n"
     ]
    }
   ],
   "source": [
    "# e) display the data type of x, y, and z\n",
    "\n",
    "x = \"Bangladesh\"\n",
    "y = 10\n",
    "z = 3.500\n",
    "\n",
    "print(type(x))\n",
    "print(type(y))\n",
    "print(type(z))"
   ]
  },
  {
   "cell_type": "markdown",
   "id": "17d305c5",
   "metadata": {},
   "source": [
    "### Strings in Python"
   ]
  },
  {
   "cell_type": "code",
   "execution_count": 44,
   "id": "4f096f4a",
   "metadata": {},
   "outputs": [
    {
     "name": "stdout",
     "output_type": "stream",
     "text": [
      "The lenght of string : 10\n"
     ]
    }
   ],
   "source": [
    "# a) Write a Python program to calculate the length of a string.\n",
    "\n",
    "x = \"Bangladesh\"\n",
    "print(\"The lenght of string :\" , len(x))"
   ]
  },
  {
   "cell_type": "code",
   "execution_count": 51,
   "id": "72e857d8",
   "metadata": {},
   "outputs": [
    {
     "name": "stdout",
     "output_type": "stream",
     "text": [
      "2\n"
     ]
    }
   ],
   "source": [
    "# b) Write a Python program to count the number of characters in a string.\n",
    "\n",
    "txt = \"I love apples, apple are my favorite fruit\"\n",
    "\n",
    "x = txt.count(\"apple\")\n",
    "\n",
    "print(x)"
   ]
  },
  {
   "cell_type": "code",
   "execution_count": null,
   "id": "ed7106f9",
   "metadata": {},
   "outputs": [],
   "source": [
    "# c) Write a Python program to remove the kth index character from a string.\n",
    "\n",
    "\n",
    "\n"
   ]
  },
  {
   "cell_type": "code",
   "execution_count": 55,
   "id": "6426e14f",
   "metadata": {},
   "outputs": [
    {
     "name": "stdout",
     "output_type": "stream",
     "text": [
      "['apple', 'cherry']\n"
     ]
    }
   ],
   "source": [
    "# d) Write a Python program to remove the characters which have odd index values of a given string.\n",
    "\n",
    "fruits = ['apple', 'banana', 'cherry']\n",
    "\n",
    "fruits.remove(\"banana\")\n",
    "\n",
    "print(fruits)\n"
   ]
  },
  {
   "cell_type": "code",
   "execution_count": 58,
   "id": "a50ebed0",
   "metadata": {},
   "outputs": [
    {
     "name": "stdout",
     "output_type": "stream",
     "text": [
      "Please Write Something : \n",
      "Hello\n",
      "Your text upper :  HELLO\n",
      "Your text lower :  hello\n"
     ]
    }
   ],
   "source": [
    "# Write a Python script that takes input from the user and displays that input back in upper and lower cases.\n",
    "\n",
    "print(\"Please Write Something : \")\n",
    "txt = input()\n",
    "\n",
    "print(\"Your text upper : \", txt.upper())\n",
    "\n",
    "print(\"Your text lower : \", txt.lower())\n"
   ]
  },
  {
   "cell_type": "code",
   "execution_count": 59,
   "id": "e0f8e35b",
   "metadata": {},
   "outputs": [
    {
     "name": "stdout",
     "output_type": "stream",
     "text": [
      "['a', 'b', 'c', 'd', 'e', 'f', 'g', 'h']\n"
     ]
    }
   ],
   "source": [
    "# f) Write a Python program to sort a string\n",
    "\n",
    "a = (\"b\", \"g\", \"a\", \"d\", \"f\", \"c\", \"h\", \"e\")\n",
    "\n",
    "x = sorted(a)\n",
    "\n",
    "print(x)"
   ]
  },
  {
   "cell_type": "code",
   "execution_count": 60,
   "id": "50c3fbf7",
   "metadata": {},
   "outputs": [
    {
     "name": "stdout",
     "output_type": "stream",
     "text": [
      "hsedalgnaB\n"
     ]
    }
   ],
   "source": [
    "# g) Write a Python program to reverse a string.\n",
    "\n",
    "txt = \"Bangladesh\"[::-1]\n",
    "print(txt)"
   ]
  },
  {
   "cell_type": "code",
   "execution_count": 61,
   "id": "1809a093",
   "metadata": {},
   "outputs": [
    {
     "name": "stdout",
     "output_type": "stream",
     "text": [
      "['apple', 'banana', 'cherry']\n"
     ]
    }
   ],
   "source": [
    "# Write a Python program to convert a given string into a list.\n",
    "\n",
    "thislist = [\"apple\", \"banana\", \"cherry\"]\n",
    "print(thislist)\n"
   ]
  },
  {
   "cell_type": "markdown",
   "id": "35878f47",
   "metadata": {},
   "source": [
    "### Python : List"
   ]
  },
  {
   "cell_type": "code",
   "execution_count": 63,
   "id": "169455f7",
   "metadata": {},
   "outputs": [
    {
     "name": "stdout",
     "output_type": "stream",
     "text": [
      "15\n"
     ]
    }
   ],
   "source": [
    "# a) Write a Python program to sum (or product) all the items in a list\n",
    "\n",
    "a = (1, 2, 3, 4, 5)\n",
    "x = sum(a)\n",
    "print(x)\n"
   ]
  },
  {
   "cell_type": "code",
   "execution_count": 65,
   "id": "fa5dd284",
   "metadata": {},
   "outputs": [
    {
     "name": "stdout",
     "output_type": "stream",
     "text": [
      "The maximum number :  20\n",
      "The minimum number :  5\n"
     ]
    }
   ],
   "source": [
    "# b) Write a Python program to get the largest/smallest number from a list\n",
    "\n",
    "ListNumber = [10, 5, 15, 20]\n",
    "\n",
    "MaxNumber = max(ListNumber)\n",
    "MinNumber = min(ListNumber)\n",
    "\n",
    "print(\"The maximum number : \", MaxNumber)\n",
    "print(\"The minimum number : \", MinNumber)\n"
   ]
  },
  {
   "cell_type": "code",
   "execution_count": null,
   "id": "f5536074",
   "metadata": {},
   "outputs": [],
   "source": []
  },
  {
   "cell_type": "code",
   "execution_count": null,
   "id": "7c756fd0",
   "metadata": {},
   "outputs": [],
   "source": []
  }
 ],
 "metadata": {
  "kernelspec": {
   "display_name": "Python 3 (ipykernel)",
   "language": "python",
   "name": "python3"
  },
  "language_info": {
   "codemirror_mode": {
    "name": "ipython",
    "version": 3
   },
   "file_extension": ".py",
   "mimetype": "text/x-python",
   "name": "python",
   "nbconvert_exporter": "python",
   "pygments_lexer": "ipython3",
   "version": "3.10.9"
  }
 },
 "nbformat": 4,
 "nbformat_minor": 5
}
